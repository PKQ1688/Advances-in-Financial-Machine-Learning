{
 "cells": [
  {
   "cell_type": "markdown",
   "source": [
    "## 2.1 动机\n",
    "在本章中我们将学习如何利用非结构化的金融数据，去生成适合机器学习使用的结构化数据。通常来说，你不会去利用其他人处理好的数据集，你所得到的结果将是别人已经知道的或则即将知道的。理想情况下，你的的起点是一组非结构化的原始数据，你将他们处理城一些有信息的特征。"
   ],
   "metadata": {
    "collapsed": false,
    "pycharm": {
     "name": "#%% md\n"
    }
   }
  },
  {
   "cell_type": "markdown",
   "source": [
    "## 2.2 金融数据的基础类型\n",
    "金融数据是各式各样的。如表2.1展示了四种金融数据的基本类型，按照多样性从左到右排序。解析来我们将讨论他们不同的性质和应用。\n",
    "### 2.2.1 基础的数据\n",
    "基础数据所包含的信息可以通过监管备案和商业分析中获得。主要包括没基础的财务数据。一个特别需要注意的是这数据是滞后的。您必须准确确认每个数据点的发布时间，以便您的分析仅在该信息公开后使用该信息。一个常见的初学者错误是假设该数据是在报告期末发布的。"
   ],
   "metadata": {
    "collapsed": false,
    "pycharm": {
     "name": "#%% md\n"
    }
   }
  },
  {
   "cell_type": "markdown",
   "source": [
    "\n"
   ],
   "metadata": {
    "collapsed": false,
    "pycharm": {
     "name": "#%% md\n"
    }
   }
  }
 ],
 "metadata": {
  "kernelspec": {
   "display_name": "Python 3",
   "language": "python",
   "name": "python3"
  },
  "language_info": {
   "codemirror_mode": {
    "name": "ipython",
    "version": 2
   },
   "file_extension": ".py",
   "mimetype": "text/x-python",
   "name": "python",
   "nbconvert_exporter": "python",
   "pygments_lexer": "ipython2",
   "version": "2.7.6"
  }
 },
 "nbformat": 4,
 "nbformat_minor": 0
}